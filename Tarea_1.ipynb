{
 "cells": [
  {
   "cell_type": "markdown",
   "id": "37754cbc-930d-4467-a6ba-48084c04c7cf",
   "metadata": {},
   "source": [
    "# Tarea 1"
   ]
  },
  {
   "cell_type": "markdown",
   "id": "539b307e-7c4a-4947-a2b1-87b42667a875",
   "metadata": {},
   "source": [
    "# Problema 1 - Modificando la intensidad de una imagen\n",
    "Cuando hablamos sobre intensidad, nos referimos a los niveles de gris que hay en un pixel dado de nuestra imagen.\n",
    "La operación de modificación de intensidad nos modifica los valores originales de intensidad de los pixeles de la imagen, pudiendo escalar estos pixeles Sea $I$ nuestro arreglo de pixeles representantes de la imagen y sea $\\alpha$ un escalar cualquiera, aumentamos la intensidad de nuestra imagen por un factor alpha como:  $I * \\alpha $, o simplemente escalamos usando un cantidad fija de unidades, usando una suma $I + \\beta$.\n",
    "\n",
    "Debemos tener cuidado con los escalamientos, esto debido a que al momento de hacer los calculos, podemos desbordar nuestra escala de blancos y negros $[0,255]$."
   ]
  },
  {
   "cell_type": "code",
   "execution_count": null,
   "id": "28798c22-75f2-4646-b52a-f6fa61594e1b",
   "metadata": {},
   "outputs": [],
   "source": [
    "import cv2 as cv\n",
    "import numpy as np"
   ]
  },
  {
   "cell_type": "markdown",
   "id": "b2783995-cf8c-4349-9aa6-28e6a58effa9",
   "metadata": {},
   "source": [
    "### Ejemplo realizandeo un escalamiento por un factor constante a los pixeles de la imagen"
   ]
  },
  {
   "cell_type": "code",
   "execution_count": null,
   "id": "2e47e4bf-4020-4860-a0a0-1fe03d74cf0c",
   "metadata": {},
   "outputs": [],
   "source": [
    "# Comenzamos capturando la imagen que queremos procesar. Por lo general lo hacemos en escalas de grises\n",
    "# ya que nos permite que el algoritmo capture lo escencial de la imagen y funcione mejor.\n",
    "# Procesar una imagen a color puede agregar variaciones o complejidad innecesaria en ciertos casos.\n",
    "image = cv.imread('Alex.jpg',cv.IMREAD_GRAYSCALE)\n",
    "\n",
    "alpha = 1.5\n",
    "\n",
    "# Aumentamos la intensidad de la imagen, debemos tener cuidado porque nuestra matriz que guardaba las intensidades\n",
    "# los cuales son valores de 0 a 255, son numeros enteros, por lo que ahora tendremos una matriz de flotantes\n",
    "image = image * alpha\n",
    "\n",
    "# np.savetxt(\"matriz_float.txt\", image, fmt=\"%d\")\n",
    "# Hacemos nuestra matriz de flotantes a enteros\n",
    "image = image.astype(np.uint8)\n",
    "# np.savetxt(\"matriz_post.txt\", image, fmt=\"%d\")\n",
    "\n",
    "# Mostramos la imagen\n",
    "cv.imshow('Image',image)\n",
    "cv.waitKey(0)\n",
    "cv.destroyAllWindows()\n",
    "\n"
   ]
  },
  {
   "cell_type": "markdown",
   "id": "c5c3efe3-5165-4251-b5e3-1bb1f5633ad2",
   "metadata": {},
   "source": [
    "### Ejemplo realizando un escalamiento a la imagen sumando un entero a sus pixeles"
   ]
  },
  {
   "cell_type": "code",
   "execution_count": null,
   "id": "34217a81-8b63-4b5f-be98-911f2c8407ed",
   "metadata": {},
   "outputs": [],
   "source": [
    "image = cv.imread('Alex.jpg',cv.IMREAD_GRAYSCALE)\n",
    "\n",
    "beta = 70\n",
    "\n",
    "# Notemos que no ocupamos transformar nuestra matriz porque hicimos una suma de enteros.\n",
    "image = image + beta\n",
    "\n",
    "# Mostramos la imagen\n",
    "cv.imshow('Image',image)\n",
    "cv.waitKey(0)\n",
    "cv.destroyAllWindows()"
   ]
  },
  {
   "cell_type": "markdown",
   "id": "07f0b948-ca54-4541-b266-0b41afedd7fb",
   "metadata": {},
   "source": [
    "# Ejemplo realizando sobre escalamiento"
   ]
  },
  {
   "cell_type": "markdown",
   "id": "4537eeef-1bde-40ae-a419-69c48dfe7146",
   "metadata": {},
   "source": [
    "#### Explicación del ejemplo:\n",
    "Cuando nosotros aumentamos la intensidad, esperamos que la imagen se vuelva cada vez más blanca, debido a que los pixeles estan siendo escalados positivaente, sin embargo, si nos fijamos justo en el ojo de alex, hay secciones negras y blancas, en especifico hay una sección muy blanca en la iris de alex, la cual posteriormente al aumentar la intensidad por un factor de 2.1, esa sección que antes era muy blanca, en vez de quedarse en blanco se volvió negro, esto debido a un problema de overflow en nuestro intervalo de colores.\n"
   ]
  },
  {
   "cell_type": "code",
   "execution_count": null,
   "id": "018376da-76fa-494a-acf8-959347b46fab",
   "metadata": {},
   "outputs": [],
   "source": [
    "# leemos la imagen, simplemente el ojo de ALEX\n",
    "image = cv.imread('Alex_eye.jpg',cv.IMREAD_GRAYSCALE)\n",
    "alpha = 2.1\n",
    "\n",
    "image = image * alpha\n",
    "\n",
    "image = image.astype(np.uint8)\n",
    "\n",
    "# Mostramos la imagen\n",
    "cv.imshow('Image',image)\n",
    "cv.waitKey(0)\n",
    "cv.destroyAllWindows()\n"
   ]
  },
  {
   "cell_type": "markdown",
   "id": "14e38c25-a3d7-4ffb-bdc7-d2e208df5a3a",
   "metadata": {},
   "source": [
    "# Problema 2 - Invertir la intensidad de imagenes"
   ]
  },
  {
   "cell_type": "markdown",
   "id": "6c359478-a506-4f5a-bd4e-8056065b9748",
   "metadata": {},
   "source": [
    "Consiste en invertir la intensidad de una imagen, dicho esto, podemos resumir el efecto como:\n",
    "- Si la imagen original es muy brillosa/blanca, esta se vuelve oscura/negra\n",
    "- Si la imagen original es muy oscura, esta se vuelve brillosa.\n",
    "- Si invertimos en escala de grises: $255 \\rightarrow 0$\n",
    "Sin embargo, para imagenes de color, al realizar una operación de invertir, lo que nos da como resultado son colores complementarios, por ejemplo:\n",
    "- Si invertimos el color rojo: $(255,0,0) \\rightarrow (0,255,255)$\n",
    "- Si invertimos el color: $(0,0,0) \\rightarrow (255,255,255)$\n",
    "- Si invertimos el color: $(5,255,100) \\rightarrow (250,0,155)$\n",
    "Dada la intensidad $I$ del pixel $P$ que denotare como $I_p$, y dado la intensidad maxima $I_\\text{max}=255$, la inversión de pixel se realiza como:\n",
    "$$I_\\text{invertida} = I_\\text{max}-I_p$$\n",
    "Esta formula funciona tanto para escala de grises como imagenes a color, sin embargo, si queremos aplicar la operación de inversión en una imagen rgb, debemos aplicarla en cada canal R G B."
   ]
  },
  {
   "cell_type": "markdown",
   "id": "e2f49c0d-4ffd-43de-adef-12f58ca1ac7a",
   "metadata": {},
   "source": [
    "### Caso 1 - Invertir en escala de grises"
   ]
  },
  {
   "cell_type": "code",
   "execution_count": null,
   "id": "978ab3b4-cf3b-4ac5-9283-899598fc7dfa",
   "metadata": {},
   "outputs": [],
   "source": [
    "# mapeamos los pixeles de la imagen en una matriz\n",
    "image = cv.imread(\"Castillo.jpg\",cv.IMREAD_GRAYSCALE)\n",
    "\n",
    "# bitwise_not lo que hace es que invierte los valores de los pixeles de la imagen a nivel de bits\n",
    "# Ejemplo: 00101011 ---> 11010100\n",
    "img_inv = cv.bitwise_not(image)\n",
    "\n",
    "cv.imshow(\"Original_image\",image)\n",
    "cv.imshow(\"Inverted_image\",img_inv)\n",
    "cv.waitKey(0)\n",
    "cv.destroyAllWindows()"
   ]
  },
  {
   "cell_type": "markdown",
   "id": "06e2f2de-b65b-418d-98dd-3205987c23cc",
   "metadata": {},
   "source": [
    "### Caso 2 - Invertir imagen RGB"
   ]
  },
  {
   "cell_type": "code",
   "execution_count": null,
   "id": "cdb315ac-fbe3-4757-9b91-7cc34b2dd91a",
   "metadata": {},
   "outputs": [],
   "source": [
    "image = cv.imread(\"Castillo.jpg\")\n",
    "\n",
    "img_inv = cv.bitwise_not(image)\n",
    "\n",
    "cv.imshow(\"Original_image\",image)\n",
    "cv.imshow(\"Inverted_image\",img_inv)\n",
    "cv.waitKey(0)\n",
    "cv.destroyAllWindows()"
   ]
  },
  {
   "cell_type": "markdown",
   "id": "0653619a-9faf-4512-9b37-58841fbce1d0",
   "metadata": {},
   "source": [
    "# Problema 3 - Operador Umbral\n",
    "Esta operación nos permite dar ciertos valores a un pixel, dependiendo si se cumple una condición.\n",
    "Parece ser muy util para dividir o puntualizar ciertas zonas de la imagen, por ejemplo zonas con poca luz y zonas con mucha luz.\n",
    "La operación mas que una forma aritmética, tiene una forma lógica, por lo que su definición se puede ver como el uso de una función if o una función partida la cuál asigna un valor dependiendo de cierto \"Umbral\".\n",
    "Definimos dos valores constantes $a_0,a_1$, los cuales nos representan los posibles valores que puede asignar la función, tenemos también la constante $q$, la cual nos representara el \"Umbral\" o valor limite con el cual condicionaremos los valores, entonces:\n",
    "$$ \n",
    "f_\\text{threshold}(a) =\n",
    "\\begin{cases}\n",
    "a_0 & \\text{si } a < q  \\\\\n",
    "a_1 & \\text{si } a \\ge q\n",
    "\\end{cases}\n",
    "$$\n",
    "Es interesante esto ya que las imagenes se pueden binarizar de una forma muy sencilla.\n",
    "Hay que tener cuidado en seleccionar un buen umbral, debido a que seleccionar un umbral de intensidad muy alto, puede repercutir en perder toda la información.\n",
    "\n",
    "##### Diferentes casos de uso:\n",
    "Imagen completamente blanca con valor de pixeles $p=255$:\n",
    "- Umbral $0 < q < 255$: La imagen no sufrira un cambio, debido a que el umbral siempre estara por debajo del valor máximo de intensidad\n",
    "- Umbral $q = 255$: La imagen se convertira completamente negra, debido a que el umbral sería igual a la intensidad máxima.\n",
    "\n",
    "\n"
   ]
  },
  {
   "cell_type": "markdown",
   "id": "168d2c84-cafa-45cb-b9df-a016332feed4",
   "metadata": {},
   "source": [
    "### Aplicando un umbral de 30\n",
    "Notamos como esta binarización nos detecta al personaje completamente, separando adecuadamente los diferentes niveles de intensidad."
   ]
  },
  {
   "cell_type": "code",
   "execution_count": null,
   "id": "025a7636-b58f-4878-8909-3cfcbcf4bdf1",
   "metadata": {},
   "outputs": [],
   "source": [
    "image = cv.imread('Hornet.jpg',cv.IMREAD_GRAYSCALE)\n",
    "\n",
    "ret_val,image_umbral = cv. threshold(image, 30,\n",
    "                             255,\n",
    "                             cv.THRESH_BINARY)\n",
    "cv.imshow('Original_image',image)\n",
    "cv.imshow('Image_umbral',image_umbral)\n",
    "cv.waitKey(0)\n",
    "cv.destroyAllWindows()"
   ]
  },
  {
   "cell_type": "markdown",
   "id": "01327327-de9c-4aa7-8de2-168976a00c8e",
   "metadata": {},
   "source": [
    "### Aplicando umbral 180\n",
    "Vemos algo interesante, el cuerpo y parte de la aguja que tiene el personaje han desaparecido, sin embargo las cabeza y la punta de la aguja, las cuales son las secciones con mayor intensidad, se mantuvieron de color blanco."
   ]
  },
  {
   "cell_type": "code",
   "execution_count": null,
   "id": "cb83facc-2c53-419e-8e43-1f46cee67fd0",
   "metadata": {},
   "outputs": [],
   "source": [
    "image = cv.imread('Hornet.jpg',cv.IMREAD_GRAYSCALE)\n",
    "\n",
    "ret_val,image_umbral = cv. threshold(image, 180,\n",
    "                             255,\n",
    "                             cv.THRESH_BINARY)\n",
    "cv.imshow('Original_image',image)\n",
    "cv.imshow('Image_umbral',image_umbral)\n",
    "cv.waitKey(0)\n",
    "cv.destroyAllWindows()"
   ]
  },
  {
   "cell_type": "markdown",
   "id": "a5864507-2ccb-429b-8228-6104fc286a72",
   "metadata": {},
   "source": [
    "### Aplicando umbral   0 < q < 255 a una imagen binarizada \n",
    "En los siguientes ejemplos trabajaremos con imagenes binarizadas, para observar que es lo que ocurre en las fronteras de intensidad, 0 y 255 cuando se aplican ciertos umbrales.\n",
    "En este caso vemos el resultado de aplicar diferentes menores a 255, se puede observar que no ocurre nada, lo que tiene sentido con la teoría."
   ]
  },
  {
   "cell_type": "code",
   "execution_count": null,
   "id": "5d0ba55c-6bb5-44ab-bc1b-61408c7079df",
   "metadata": {},
   "outputs": [],
   "source": [
    "image = cv.imread('Hornet.jpg',cv.IMREAD_GRAYSCALE)\n",
    "\n",
    "# Binarizamos la imagen original a un cierto umbral\n",
    "_,img_bin = cv. threshold(image, 30,\n",
    "                             255,\n",
    "                             cv.THRESH_BINARY)\n",
    "\n",
    "# Vemos que ocurre en los limites de los umbrales cuando tenemos pixeles o completamente negros p = 0, o \n",
    "# pixeles completamente blancos p = 255, como es el caso de una imagen binarizada:\n",
    "_,img_um_100 = cv. threshold(img_bin, 100,\n",
    "                             255,\n",
    "                             cv.THRESH_BINARY)\n",
    "\n",
    "cv.imshow('Original',image)\n",
    "cv.imshow('Image_bin',img_bin)\n",
    "cv.imshow('Image_umbral_255',img_um_100)\n",
    "cv.waitKey(0)\n",
    "cv.destroyAllWindows()"
   ]
  },
  {
   "cell_type": "markdown",
   "id": "15c5328e-d5e6-4c80-8a08-d2998d65f3fc",
   "metadata": {},
   "source": [
    "### Aplicando umbral q = 255 a una imagen binarizada\n",
    "Notamos que la imagen se vuelve completamente negra, lo que corresponde a un caso correcto del análisis teorico."
   ]
  },
  {
   "cell_type": "code",
   "execution_count": null,
   "id": "a215eba3-4f51-4ea7-9a5a-8795f4cb7447",
   "metadata": {},
   "outputs": [],
   "source": [
    "_,img_um_255 = cv. threshold(img_bin, 255,\n",
    "                             255,\n",
    "                             cv.THRESH_BINARY)\n",
    "cv.imshow('Image_bin',img_bin)\n",
    "cv.imshow('Image_umbral_255',img_um_255)\n",
    "cv.waitKey(0)\n",
    "cv.destroyAllWindows()"
   ]
  },
  {
   "cell_type": "code",
   "execution_count": null,
   "id": "9aa3b86d-29ac-48ba-bfaa-4c3229240894",
   "metadata": {},
   "outputs": [],
   "source": []
  }
 ],
 "metadata": {
  "kernelspec": {
   "display_name": "Python 3 (ipykernel)",
   "language": "python",
   "name": "python3"
  },
  "language_info": {
   "codemirror_mode": {
    "name": "ipython",
    "version": 3
   },
   "file_extension": ".py",
   "mimetype": "text/x-python",
   "name": "python",
   "nbconvert_exporter": "python",
   "pygments_lexer": "ipython3",
   "version": "3.8.5"
  }
 },
 "nbformat": 4,
 "nbformat_minor": 5
}
